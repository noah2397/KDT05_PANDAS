{
 "cells": [
  {
   "cell_type": "markdown",
   "id": "df321a60-16a3-47e3-a2a4-765cfd7673ed",
   "metadata": {},
   "source": [
    "### [ 다양한 Series 객체 생성 ]"
   ]
  },
  {
   "cell_type": "markdown",
   "id": "dcb39b2d-e471-4525-8fc9-8cd07462b1c6",
   "metadata": {},
   "source": [
    "#### (1) 모듈 로딩"
   ]
  },
  {
   "cell_type": "code",
   "execution_count": 1,
   "id": "0138cd4f-9a6e-452f-8a69-abd9fd524612",
   "metadata": {},
   "outputs": [],
   "source": [
    "import pandas as pd"
   ]
  },
  {
   "cell_type": "markdown",
   "id": "fd56a5e2-e36b-4e54-b5b3-52a4117d24a5",
   "metadata": {},
   "source": [
    "#### (2) Series 객체 생성 - 방법 1\n",
    "- Series( data, index )"
   ]
  },
  {
   "cell_type": "code",
   "execution_count": 5,
   "id": "12291df7-1366-4858-a677-55ec1d4aa7e5",
   "metadata": {},
   "outputs": [
    {
     "data": {
      "text/plain": [
       "one      11\n",
       "two      22\n",
       "three    33\n",
       "dtype: int64"
      ]
     },
     "execution_count": 5,
     "metadata": {},
     "output_type": "execute_result"
    }
   ],
   "source": [
    "sr1=pd.Series([11,22,33], index=['one','two','three'])\n",
    "sr1"
   ]
  },
  {
   "cell_type": "markdown",
   "id": "a2fd0465-9dc4-4c2a-bc4d-95f8112ffc35",
   "metadata": {},
   "source": [
    "#### (2) Series 객체 셍성 - 방법 2"
   ]
  },
  {
   "cell_type": "code",
   "execution_count": 6,
   "id": "962ed15c-7815-4b17-ac6b-19449c21be66",
   "metadata": {},
   "outputs": [
    {
     "data": {
      "text/plain": [
       "one      11\n",
       "two      22\n",
       "three    33\n",
       "Name: jumsu, dtype: int64"
      ]
     },
     "execution_count": 6,
     "metadata": {},
     "output_type": "execute_result"
    }
   ],
   "source": [
    "sr1=pd.Series([11,22,33],index=['one','two','three'],name='jumsu')\n",
    "sr1"
   ]
  },
  {
   "cell_type": "markdown",
   "id": "4cda60a6-3a2a-4da7-955d-0b4bed598b7b",
   "metadata": {},
   "source": [
    "#### (2) Series 객체 생성 - 방법 3"
   ]
  },
  {
   "cell_type": "code",
   "execution_count": 10,
   "id": "177ba41c-844c-4b4c-bf71-bbc8c911b07c",
   "metadata": {},
   "outputs": [
    {
     "data": {
      "text/plain": [
       "one      11\n",
       "two      22\n",
       "three    33\n",
       "Name: yahoo, dtype: uint8"
      ]
     },
     "execution_count": 10,
     "metadata": {},
     "output_type": "execute_result"
    }
   ],
   "source": [
    "sr1=pd.Series([11,22,33],index=['one','two','three'], name='yahoo',dtype='uint8')\n",
    "sr1"
   ]
  },
  {
   "cell_type": "markdown",
   "id": "189a10f4-609f-494c-95fc-4bfaeff65ab6",
   "metadata": {},
   "source": [
    "#### (2) Series 객체 생성 - 방법 4 => 저장되는 데이터 dict"
   ]
  },
  {
   "cell_type": "code",
   "execution_count": 15,
   "id": "c3d36fdd-c359-4be0-9dbc-6d0324d6d47f",
   "metadata": {},
   "outputs": [
    {
     "data": {
      "text/plain": [
       "name    홍길동\n",
       "age      12\n",
       "job      도적\n",
       "dtype: object"
      ]
     },
     "execution_count": 15,
     "metadata": {},
     "output_type": "execute_result"
    }
   ],
   "source": [
    "data={'name':'홍길동','age':12, 'job':'도적'} # 딕셔너리 형태로 넣음\n",
    "sr1=pd.Series(data)\n",
    "sr1"
   ]
  },
  {
   "cell_type": "code",
   "execution_count": 16,
   "id": "8d3646a0-6e0f-4b5a-8eb3-9149d7ab9ec9",
   "metadata": {},
   "outputs": [
    {
     "data": {
      "text/plain": [
       "Index(['name', 'age', 'job'], dtype='object')"
      ]
     },
     "execution_count": 16,
     "metadata": {},
     "output_type": "execute_result"
    }
   ],
   "source": [
    "#속성 확인하기\n",
    "sr1.index"
   ]
  },
  {
   "cell_type": "code",
   "execution_count": 17,
   "id": "0f212823-a919-49ff-863e-8b68d038665d",
   "metadata": {},
   "outputs": [
    {
     "data": {
      "text/plain": [
       "array(['홍길동', 12, '도적'], dtype=object)"
      ]
     },
     "execution_count": 17,
     "metadata": {},
     "output_type": "execute_result"
    }
   ],
   "source": [
    "# 값 확인하기\n",
    "sr1.values"
   ]
  },
  {
   "cell_type": "markdown",
   "id": "12ba4f5b-852a-4245-82a2-0e230bf610ab",
   "metadata": {},
   "source": [
    "#### (2) Series 객체 생성 - 방법 5 => 저장되는 데이터 set"
   ]
  },
  {
   "cell_type": "code",
   "execution_count": 28,
   "id": "9c6f63d9-7581-47ec-8217-2e1cd543f3d9",
   "metadata": {},
   "outputs": [
    {
     "data": {
      "text/plain": [
       "0    홍길동\n",
       "1     도적\n",
       "2     12\n",
       "dtype: object"
      ]
     },
     "execution_count": 28,
     "metadata": {},
     "output_type": "execute_result"
    }
   ],
   "source": [
    "data=list({'홍길동',12,'도적'}) # 순서없는 데이터, 중복 불허\n",
    "# 형변환 후 객체 생성 가능\n",
    "st1=pd.Series(data, index=[0,1,2])\n",
    "st1"
   ]
  }
 ],
 "metadata": {
  "kernelspec": {
   "display_name": "Python 3 (ipykernel)",
   "language": "python",
   "name": "python3"
  },
  "language_info": {
   "codemirror_mode": {
    "name": "ipython",
    "version": 3
   },
   "file_extension": ".py",
   "mimetype": "text/x-python",
   "name": "python",
   "nbconvert_exporter": "python",
   "pygments_lexer": "ipython3",
   "version": "3.8.18"
  }
 },
 "nbformat": 4,
 "nbformat_minor": 5
}
