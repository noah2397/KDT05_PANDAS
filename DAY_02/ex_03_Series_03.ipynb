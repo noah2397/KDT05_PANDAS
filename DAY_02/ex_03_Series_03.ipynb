{
 "cells": [
  {
   "cell_type": "markdown",
   "id": "48e7d781-5285-44b6-9011-2e749947b929",
   "metadata": {},
   "source": [
    "### [ Series ] 객체 원소 인덱싱 & 슬라이싱"
   ]
  },
  {
   "cell_type": "markdown",
   "id": "892a4ebd-3f5c-44c2-ba25-eb1f6ec1a3e2",
   "metadata": {},
   "source": [
    "#### (1) 모듈 로딩 -------------------------------------"
   ]
  },
  {
   "cell_type": "code",
   "execution_count": 5,
   "id": "7e99036c-ef82-4c4f-8436-7799210417de",
   "metadata": {},
   "outputs": [],
   "source": [
    "from pandas import Series"
   ]
  },
  {
   "cell_type": "markdown",
   "id": "3a35cf51-b5ba-4cf0-8ef8-716e1148c0b2",
   "metadata": {},
   "source": [
    "#### (2) 데이터 준비-------------------------------"
   ]
  },
  {
   "cell_type": "code",
   "execution_count": 3,
   "id": "abc6b92a-70dc-48de-99fc-a67bcf6810fa",
   "metadata": {},
   "outputs": [],
   "source": [
    "datas={'name':'홍길동','age':12, 'job':'도적'}"
   ]
  },
  {
   "cell_type": "markdown",
   "id": "83a4ad3b-4c8e-49f0-b00c-a29799c1d24d",
   "metadata": {},
   "source": [
    "#### (3) Series 객체 생성"
   ]
  },
  {
   "cell_type": "code",
   "execution_count": 6,
   "id": "d7403056-8b0b-417c-b3cb-e264f0ff8600",
   "metadata": {},
   "outputs": [
    {
     "data": {
      "text/plain": [
       "(Index(['name', 'age', 'job'], dtype='object'),\n",
       " array(['홍길동', 12, '도적'], dtype=object))"
      ]
     },
     "execution_count": 6,
     "metadata": {},
     "output_type": "execute_result"
    }
   ],
   "source": [
    "sr1=Series(datas)\n",
    "sr1.index , sr1.values"
   ]
  },
  {
   "cell_type": "code",
   "execution_count": 7,
   "id": "5e1d0d65-aa99-47ea-ab9f-44b92ce7f154",
   "metadata": {},
   "outputs": [
    {
     "data": {
      "text/plain": [
       "name    홍길동\n",
       "age      12\n",
       "job      도적\n",
       "dtype: object"
      ]
     },
     "execution_count": 7,
     "metadata": {},
     "output_type": "execute_result"
    }
   ],
   "source": [
    "sr1"
   ]
  },
  {
   "cell_type": "markdown",
   "id": "6fb33ad9-b46e-4e65-8eb5-692f2b2cd9e3",
   "metadata": {},
   "source": [
    "#### (4) 인덱싱으로 원소 읽기----------------------"
   ]
  },
  {
   "cell_type": "markdown",
   "id": "afb0cc44-500e-479d-b9c0-6b85523fc7a8",
   "metadata": {},
   "source": [
    "=> 1개 원소 읽기"
   ]
  },
  {
   "cell_type": "code",
   "execution_count": 8,
   "id": "a882fff5-6528-4186-afbf-09d9f49de92b",
   "metadata": {},
   "outputs": [
    {
     "data": {
      "text/plain": [
       "(12, 12, Index(['name', 'age', 'job'], dtype='object'))"
      ]
     },
     "execution_count": 8,
     "metadata": {},
     "output_type": "execute_result"
    }
   ],
   "source": [
    "sr1['age'],sr1[1],sr1.index"
   ]
  },
  {
   "cell_type": "markdown",
   "id": "226c6a3f-cdcb-4295-bb5d-a741b092faf5",
   "metadata": {},
   "source": [
    "=> 2개 원소 읽기"
   ]
  },
  {
   "cell_type": "code",
   "execution_count": 11,
   "id": "78cb1215-0905-4801-8deb-9d299ae1cf78",
   "metadata": {},
   "outputs": [
    {
     "data": {
      "text/plain": [
       "('홍길동', '도적', '홍길동', '도적')"
      ]
     },
     "execution_count": 11,
     "metadata": {},
     "output_type": "execute_result"
    }
   ],
   "source": [
    "# 이름과 직업 데이터 읽기\n",
    "sr1['name'], sr1['job'], sr1[0], sr1[2]"
   ]
  },
  {
   "cell_type": "code",
   "execution_count": 13,
   "id": "88e15c4e-3237-4ca5-9fa8-8e655d2ae3d1",
   "metadata": {},
   "outputs": [
    {
     "data": {
      "text/plain": [
       "(1, int, [1], list)"
      ]
     },
     "execution_count": 13,
     "metadata": {},
     "output_type": "execute_result"
    }
   ],
   "source": [
    "a=[1,2,3]\n",
    "b=(11,22,33)\n",
    "a[0], type(a[0]), a[:1], type(a[:1])"
   ]
  },
  {
   "cell_type": "code",
   "execution_count": 29,
   "id": "57ab2fc3-f9ca-4bb0-8069-e49bf894ebe0",
   "metadata": {},
   "outputs": [
    {
     "data": {
      "text/plain": [
       "(pandas.core.series.Series,\n",
       " name    홍길동\n",
       " job      도적\n",
       " dtype: object)"
      ]
     },
     "execution_count": 29,
     "metadata": {},
     "output_type": "execute_result"
    }
   ],
   "source": [
    "#이름과 직업 데이터 읽기 ==> 리스트 단위로 읽기\n",
    "ret=sr1[['name','job']]\n",
    "ret2=sr1[[0,2]]\n",
    "type(ret), ret\n",
    "type(ret2), ret2"
   ]
  },
  {
   "cell_type": "markdown",
   "id": "c7d0e808-4a25-4729-8999-7607bbde057c",
   "metadata": {},
   "source": [
    "(4) 슬라이싱으로 원소 읽기 ----------------------"
   ]
  },
  {
   "cell_type": "code",
   "execution_count": 30,
   "id": "2750f03d-f3d5-4bc1-80a9-8e03c746174b",
   "metadata": {},
   "outputs": [
    {
     "data": {
      "text/plain": [
       "name    홍길동\n",
       "age      12\n",
       "dtype: object"
      ]
     },
     "execution_count": 30,
     "metadata": {},
     "output_type": "execute_result"
    }
   ],
   "source": [
    "# 위치 인덱스로 슬라이싱 ------------------------------\n",
    "sr1[:2]              # 시작 <= ~ < 끝"
   ]
  },
  {
   "cell_type": "code",
   "execution_count": 33,
   "id": "d86d37e2-043c-4b43-9939-650d6b3113ff",
   "metadata": {},
   "outputs": [
    {
     "data": {
      "text/plain": [
       "name    홍길동\n",
       "age      12\n",
       "job      도적\n",
       "dtype: object"
      ]
     },
     "execution_count": 33,
     "metadata": {},
     "output_type": "execute_result"
    }
   ],
   "source": [
    "sr1[:]"
   ]
  },
  {
   "cell_type": "code",
   "execution_count": 31,
   "id": "764b9271-bab8-4a11-9f8f-c18f33847580",
   "metadata": {},
   "outputs": [
    {
     "data": {
      "text/plain": [
       "name    홍길동\n",
       "dtype: object"
      ]
     },
     "execution_count": 31,
     "metadata": {},
     "output_type": "execute_result"
    }
   ],
   "source": [
    "sr1[:-2]"
   ]
  },
  {
   "cell_type": "markdown",
   "id": "642223b4-c485-4577-abf5-2597f6f1e008",
   "metadata": {},
   "source": [
    "레이블 인덱스로 슬라이싱 -------------------------"
   ]
  },
  {
   "cell_type": "code",
   "execution_count": 32,
   "id": "44b7af68-e687-45af-b32f-b2f746b8f3f8",
   "metadata": {},
   "outputs": [
    {
     "data": {
      "text/plain": [
       "name    홍길동\n",
       "age      12\n",
       "job      도적\n",
       "dtype: object"
      ]
     },
     "execution_count": 32,
     "metadata": {},
     "output_type": "execute_result"
    }
   ],
   "source": [
    "sr1['name':'job']"
   ]
  },
  {
   "cell_type": "code",
   "execution_count": null,
   "id": "eb384c79-844d-401f-85f6-f866d0e97cce",
   "metadata": {},
   "outputs": [
    {
     "data": {
      "text/plain": [
       "name    홍길동\n",
       "age      12\n",
       "dtype: object"
      ]
     },
     "execution_count": 34,
     "metadata": {},
     "output_type": "execute_result"
    }
   ],
   "source": [
    "sr1['name':'age']"
   ]
  },
  {
   "cell_type": "code",
   "execution_count": null,
   "id": "e0889b27-7916-454e-a615-c17baec41bf8",
   "metadata": {},
   "outputs": [],
   "source": []
  },
  {
   "cell_type": "code",
   "execution_count": null,
   "id": "77c59a9e-702c-41ba-95ce-d10576a97f5b",
   "metadata": {},
   "outputs": [],
   "source": []
  }
 ],
 "metadata": {
  "kernelspec": {
   "display_name": "Python 3 (ipykernel)",
   "language": "python",
   "name": "python3"
  },
  "language_info": {
   "codemirror_mode": {
    "name": "ipython",
    "version": 3
   },
   "file_extension": ".py",
   "mimetype": "text/x-python",
   "name": "python",
   "nbconvert_exporter": "python",
   "pygments_lexer": "ipython3",
   "version": "3.8.18"
  }
 },
 "nbformat": 4,
 "nbformat_minor": 5
}
